{
 "cells": [
  {
   "cell_type": "code",
   "execution_count": 1,
   "metadata": {},
   "outputs": [],
   "source": [
    "import pandas as pd\n",
    "import numpy as np\n",
    "import datetime as dt\n",
    "import seaborn as sns\n",
    "import matplotlib.pyplot as plt\n",
    "from sklearn.model_selection import TimeSeriesSplit\n",
    "plt.style.use('ggplot')\n",
    "import warnings\n",
    "warnings.simplefilter('ignore')"
   ]
  },
  {
   "cell_type": "code",
   "execution_count": 25,
   "metadata": {},
   "outputs": [],
   "source": [
    "#Loading the datasets\n",
    "ac= pd.read_excel(\"Accidents0515.xlsx\")\n",
    "cs = pd.read_excel('Casualties0515.xlsx')\n",
    "vs= pd.read_excel(\"Vehicles0515.xlsx\")"
   ]
  },
  {
   "cell_type": "code",
   "execution_count": 26,
   "metadata": {},
   "outputs": [
    {
     "name": "stdout",
     "output_type": "stream",
     "text": [
      "True\n",
      "Accident_Index              0\n",
      "Location_Easting_OSGR      31\n",
      "Location_Northing_OSGR     31\n",
      "Longitude                  31\n",
      "Latitude                   31\n",
      "Accident_Severity           0\n",
      "Number_of_Vehicles          0\n",
      "Number_of_Casualties        0\n",
      "Date                        0\n",
      "Day_of_Week                 0\n",
      "Time                        1\n",
      "Road_Type                   0\n",
      "Speed_limit                 0\n",
      "Junction_Detail             0\n",
      "Light_Conditions            0\n",
      "Weather_Conditions          0\n",
      "Road_Surface_Conditions     0\n",
      "Urban_or_Rural_Area         0\n",
      "dtype: int64\n"
     ]
    }
   ],
   "source": [
    "#Clean each dataframe and remain with the features that you want to use\n",
    "\n",
    "\"\"\"Dealing with the ac variable which contains accident data\"\"\"\n",
    "\n",
    "#Dropping some cells that wont be used\n",
    "ac1=ac.drop(['1st_Road_Class','Police_Force','Local_Authority_(District)','Local_Authority_(Highway)','Junction_Control','Did_Police_Officer_Attend_Scene_of_Accident','1st_Road_Number','2nd_Road_Class','2nd_Road_Number','Pedestrian_Crossing-Human_Control','Pedestrian_Crossing-Physical_Facilities','Special_Conditions_at_Site','Carriageway_Hazards','LSOA_of_Accident_Location'],axis='columns',inplace=False)\n",
    "\n",
    "# check if there exist nan values\n",
    "print(ac1.isna().values.any())\n",
    "#showing the number of missing values\n",
    "print(ac1.isna().sum())\n",
    "\n",
    "# Converting the Accident_Severity to be 0- slight and serious and 1-fatal\n",
    "ac1['Accident_Severity'].replace(2,0,inplace=True)\n",
    "ac1['Accident_Severity'].replace(3,0,inplace=True)"
   ]
  },
  {
   "cell_type": "code",
   "execution_count": 27,
   "metadata": {},
   "outputs": [
    {
     "name": "stdout",
     "output_type": "stream",
     "text": [
      "False\n",
      "Accident_Index          0\n",
      "Casualty_Class          0\n",
      "Age_Band_of_Casualty    0\n",
      "Casualty_Severity       0\n",
      "Pedestrian_Location     0\n",
      "dtype: int64\n"
     ]
    }
   ],
   "source": [
    "\"\"\"Dealing with the cs variable which contains all value about casualties\"\"\"\n",
    "\n",
    "#Dropping some cells that wont be used\n",
    "cs1=cs.drop(['Pedestrian_Movement','Vehicle_Reference','Casualty_Reference','Sex_of_Casualty','Age_of_Casualty','Car_Passenger','Bus_or_Coach_Passenger','Pedestrian_Road_Maintenance_Worker','Casualty_Type','Casualty_Home_Area_Type'],axis='columns',inplace=False)\n",
    "\n",
    "# check if there exist nan values\n",
    "print(cs1.isna().values.any())\n",
    "print(cs1.isna().sum())\n",
    "\n",
    "#dropping the Accident_Index in cs dataframe\n",
    "cs2=cs1.drop(['Accident_Index'],axis='columns',inplace=False)\n",
    "\n",
    "\n",
    "# Converting the Casualty_Severity to be 0- slight and serious and 1-fatal\n",
    "cs2['Casualty_Severity'].replace(2,0,inplace=True)\n",
    "cs2['Casualty_Severity'].replace(3,0,inplace=True)"
   ]
  },
  {
   "cell_type": "code",
   "execution_count": 28,
   "metadata": {},
   "outputs": [
    {
     "name": "stdout",
     "output_type": "stream",
     "text": [
      "False\n",
      "Accident_Index               0\n",
      "Vehicle_Type                 0\n",
      "Vehicle_Manoeuvre            0\n",
      "Skidding_and_Overturning     0\n",
      "Hit_Object_in_Carriageway    0\n",
      "1st_Point_of_Impact          0\n",
      "Journey_Purpose_of_Driver    0\n",
      "Sex_of_Driver                0\n",
      "Age_of_Vehicle               0\n",
      "dtype: int64\n"
     ]
    }
   ],
   "source": [
    "\"\"\"Dealing with the vs variable which contains all value about Vehicles\"\"\"\n",
    "\n",
    "#Dropping some cells that wont be used\n",
    "vs1=vs.drop(['Vehicle_Reference','Towing_and_Articulation','Junction_Location','Vehicle_Leaving_Carriageway','Hit_Object_off_Carriageway','Was_Vehicle_Left_Hand_Drive?','Age_of_Driver','Vehicle_Location-Restricted_Lane','Age_Band_of_Driver','Engine_Capacity_(CC)','Propulsion_Code','Driver_IMD_Decile','Driver_Home_Area_Type'],axis='columns',inplace=False)\n",
    "# check if there exist nan values\n",
    "print(vs1.isna().values.any())\n",
    "print(vs1.isna().sum())\n",
    "\n",
    "#dropping the Accident_Index in vs dataframe\n",
    "vs2=vs1.drop(['Accident_Index'],axis='columns',inplace=False)"
   ]
  },
  {
   "cell_type": "code",
   "execution_count": 37,
   "metadata": {},
   "outputs": [],
   "source": [
    "#concatenating the dataframes from all the 3 dataframes\n",
    "#concatenate the dataframe now to join ac and cs (which lacks the accident_index because they would clash with that of ac)\n",
    "all_data=pd.concat([ac1,cs2,vs2],axis='columns')\n",
    "\n",
    "#drop rows with missing value and check if there are any missing values afterwards\n",
    "all_data_1=all_data.dropna()\n"
   ]
  },
  {
   "cell_type": "code",
   "execution_count": 38,
   "metadata": {},
   "outputs": [
    {
     "name": "stdout",
     "output_type": "stream",
     "text": [
      "False\n"
     ]
    }
   ],
   "source": [
    "print(all_data_1.isna().values.any())"
   ]
  },
  {
   "cell_type": "code",
   "execution_count": 39,
   "metadata": {},
   "outputs": [
    {
     "name": "stdout",
     "output_type": "stream",
     "text": [
      "Accident_Index               0\n",
      "Location_Easting_OSGR        0\n",
      "Location_Northing_OSGR       0\n",
      "Longitude                    0\n",
      "Latitude                     0\n",
      "Accident_Severity            0\n",
      "Number_of_Vehicles           0\n",
      "Number_of_Casualties         0\n",
      "Date                         0\n",
      "Day_of_Week                  0\n",
      "Time                         0\n",
      "Road_Type                    0\n",
      "Speed_limit                  0\n",
      "Junction_Detail              0\n",
      "Light_Conditions             0\n",
      "Weather_Conditions           0\n",
      "Road_Surface_Conditions      0\n",
      "Urban_or_Rural_Area          0\n",
      "Casualty_Class               0\n",
      "Age_Band_of_Casualty         0\n",
      "Casualty_Severity            0\n",
      "Pedestrian_Location          0\n",
      "Vehicle_Type                 0\n",
      "Vehicle_Manoeuvre            0\n",
      "Skidding_and_Overturning     0\n",
      "Hit_Object_in_Carriageway    0\n",
      "1st_Point_of_Impact          0\n",
      "Journey_Purpose_of_Driver    0\n",
      "Sex_of_Driver                0\n",
      "Age_of_Vehicle               0\n",
      "dtype: int64\n"
     ]
    }
   ],
   "source": [
    "print(all_data_1.isna().sum())"
   ]
  },
  {
   "cell_type": "code",
   "execution_count": 40,
   "metadata": {},
   "outputs": [
    {
     "data": {
      "text/plain": [
       "Accident_Index               99967\n",
       "Location_Easting_OSGR        99967\n",
       "Location_Northing_OSGR       99967\n",
       "Longitude                    99967\n",
       "Latitude                     99967\n",
       "Accident_Severity            99967\n",
       "Number_of_Vehicles           99967\n",
       "Number_of_Casualties         99967\n",
       "Date                         99967\n",
       "Day_of_Week                  99967\n",
       "Time                         99967\n",
       "Road_Type                    99967\n",
       "Speed_limit                  99967\n",
       "Junction_Detail              99967\n",
       "Light_Conditions             99967\n",
       "Weather_Conditions           99967\n",
       "Road_Surface_Conditions      99967\n",
       "Urban_or_Rural_Area          99967\n",
       "Casualty_Class               99967\n",
       "Age_Band_of_Casualty         99967\n",
       "Casualty_Severity            99967\n",
       "Pedestrian_Location          99967\n",
       "Vehicle_Type                 99967\n",
       "Vehicle_Manoeuvre            99967\n",
       "Skidding_and_Overturning     99967\n",
       "Hit_Object_in_Carriageway    99967\n",
       "1st_Point_of_Impact          99967\n",
       "Journey_Purpose_of_Driver    99967\n",
       "Sex_of_Driver                99967\n",
       "Age_of_Vehicle               99967\n",
       "dtype: int64"
      ]
     },
     "execution_count": 40,
     "metadata": {},
     "output_type": "execute_result"
    }
   ],
   "source": [
    "all_data_1.count()"
   ]
  },
  {
   "cell_type": "code",
   "execution_count": null,
   "metadata": {},
   "outputs": [],
   "source": []
  }
 ],
 "metadata": {
  "kernelspec": {
   "display_name": "Python 3",
   "language": "python",
   "name": "python3"
  },
  "language_info": {
   "codemirror_mode": {
    "name": "ipython",
    "version": 3
   },
   "file_extension": ".py",
   "mimetype": "text/x-python",
   "name": "python",
   "nbconvert_exporter": "python",
   "pygments_lexer": "ipython3",
   "version": "3.7.4"
  }
 },
 "nbformat": 4,
 "nbformat_minor": 2
}
